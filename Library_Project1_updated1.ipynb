{
 "cells": [
  {
   "cell_type": "code",
   "execution_count": 82,
   "metadata": {},
   "outputs": [],
   "source": [
    "import pandas as pd\n",
    "import numpy as np\n",
    "import matplotlib.pyplot as plt\n",
    "from scipy.stats import linregress"
   ]
  },
  {
   "cell_type": "code",
   "execution_count": 83,
   "metadata": {},
   "outputs": [
    {
     "name": "stderr",
     "output_type": "stream",
     "text": [
      "C:\\Users\\rho62\\Anaconda3\\lib\\site-packages\\IPython\\core\\interactiveshell.py:3058: DtypeWarning: Columns (20) have mixed types. Specify dtype option on import or set low_memory=False.\n",
      "  interactivity=interactivity, compiler=compiler, result=result)\n"
     ]
    }
   ],
   "source": [
    "smcl_data = pd.read_csv(\"SMCL_ANF_Items.csv\")"
   ]
  },
  {
   "cell_type": "code",
   "execution_count": 84,
   "metadata": {},
   "outputs": [],
   "source": [
    "#Renamed the columns for column V, W, X\n",
    "\n",
    "smcl_data2 = smcl_data.rename(columns={'245|a': 'Book Title','100|a': 'Author',\n",
    "                                      '008 Date One': 'Published Date'})\n",
    "\n",
    "#dropped columns\n",
    "\n",
    "smcl_data_clean = smcl_data2.drop(['LOCATION', 'BARCODE', 'RECORD #(ITEM)',\n",
    "                 'I TYPE', 'MAT TYPE', 'OTHER CALL', 'MATERIAL'], axis=1)\n",
    "\n",
    "#created dictionary for the BRANCH column and replaced with actual location\n",
    "\n",
    "branch_dict = {'0k': 'Bookmobile', '1a':'Atherton', '1b':'Belmont', '1r':'Brisbane','1e':'East Palo Alto','1f':'Foster City'\n",
    ",'1h':'Half Moon Bay','1m':'Millbrae','1p':'Pacifica Sharp Park','1z':'Pacifica Sanchez','1s':'San Carlos','1v':'Portola Valley','1w':'Woodside'}\n",
    "\n",
    "#looking for values to combine in Call # field\n",
    "smcl_data_clean[\"CALL #\"].value_counts()\n",
    "\n",
    "#cleaning up and only using initial categorey \n",
    "smcl_data_clean[\"CALL #\"] = smcl_data_clean[\"CALL #\"].str.split(\" \", 1, expand=True)\n",
    "\n",
    "smcl_data_clean = smcl_data_clean.replace({\"BRANCH\": branch_dict})"
   ]
  },
  {
   "cell_type": "code",
   "execution_count": 85,
   "metadata": {},
   "outputs": [
    {
     "data": {
      "text/html": [
       "<div>\n",
       "<style scoped>\n",
       "    .dataframe tbody tr th:only-of-type {\n",
       "        vertical-align: middle;\n",
       "    }\n",
       "\n",
       "    .dataframe tbody tr th {\n",
       "        vertical-align: top;\n",
       "    }\n",
       "\n",
       "    .dataframe thead th {\n",
       "        text-align: right;\n",
       "    }\n",
       "</style>\n",
       "<table border=\"1\" class=\"dataframe\">\n",
       "  <thead>\n",
       "    <tr style=\"text-align: right;\">\n",
       "      <th></th>\n",
       "      <th>BRANCH</th>\n",
       "      <th>CREATED(ITEM)</th>\n",
       "      <th>RECORD #(BIBLIO)</th>\n",
       "      <th>CREATED(BIBLIO)</th>\n",
       "      <th>YTDCIRC</th>\n",
       "      <th>LYRCIRC</th>\n",
       "      <th>TOT CHKOUT</th>\n",
       "      <th>TOT RENEW</th>\n",
       "      <th># RENEWALS</th>\n",
       "      <th>STATUS</th>\n",
       "      <th>DUE DATE</th>\n",
       "      <th>LOUTDATE</th>\n",
       "      <th>LCHKIN</th>\n",
       "      <th>CALL #</th>\n",
       "      <th>Book Title</th>\n",
       "      <th>Author</th>\n",
       "      <th>Published Date</th>\n",
       "    </tr>\n",
       "  </thead>\n",
       "  <tbody>\n",
       "    <tr>\n",
       "      <td>0</td>\n",
       "      <td>Portola Valley</td>\n",
       "      <td>7/18/2005 8:45</td>\n",
       "      <td>b10000203</td>\n",
       "      <td>7/18/2005 8:45</td>\n",
       "      <td>0</td>\n",
       "      <td>0</td>\n",
       "      <td>15</td>\n",
       "      <td>6</td>\n",
       "      <td>0</td>\n",
       "      <td>m</td>\n",
       "      <td>-  -</td>\n",
       "      <td>4/28/2016 15:35</td>\n",
       "      <td>5/24/2016 11:00</td>\n",
       "      <td>NATURE</td>\n",
       "      <td>Encyclopedia of mammals /</td>\n",
       "      <td>NaN</td>\n",
       "      <td>1998</td>\n",
       "    </tr>\n",
       "    <tr>\n",
       "      <td>1</td>\n",
       "      <td>Pacifica Sanchez</td>\n",
       "      <td>7/18/2005 8:45</td>\n",
       "      <td>b10000276</td>\n",
       "      <td>7/18/2005 8:45</td>\n",
       "      <td>0</td>\n",
       "      <td>0</td>\n",
       "      <td>30</td>\n",
       "      <td>11</td>\n",
       "      <td>0</td>\n",
       "      <td>-</td>\n",
       "      <td>-  -</td>\n",
       "      <td>4/18/2018 17:17</td>\n",
       "      <td>5/14/2018 10:40</td>\n",
       "      <td>NATURE</td>\n",
       "      <td>Encyclopedia of fishes /</td>\n",
       "      <td>NaN</td>\n",
       "      <td>1998</td>\n",
       "    </tr>\n",
       "    <tr>\n",
       "      <td>2</td>\n",
       "      <td>Foster City</td>\n",
       "      <td>7/18/2005 8:45</td>\n",
       "      <td>b1000032x</td>\n",
       "      <td>7/18/2005 8:45</td>\n",
       "      <td>2</td>\n",
       "      <td>3</td>\n",
       "      <td>40</td>\n",
       "      <td>23</td>\n",
       "      <td>0</td>\n",
       "      <td>-</td>\n",
       "      <td>-  -</td>\n",
       "      <td>11/24/2019 16:41</td>\n",
       "      <td>1/10/2020 10:47</td>\n",
       "      <td>NATURE</td>\n",
       "      <td>Encyclopedia of birds /</td>\n",
       "      <td>NaN</td>\n",
       "      <td>1998</td>\n",
       "    </tr>\n",
       "    <tr>\n",
       "      <td>3</td>\n",
       "      <td>Millbrae</td>\n",
       "      <td>7/18/2005 8:45</td>\n",
       "      <td>b1000032x</td>\n",
       "      <td>7/18/2005 8:45</td>\n",
       "      <td>0</td>\n",
       "      <td>0</td>\n",
       "      <td>17</td>\n",
       "      <td>9</td>\n",
       "      <td>0</td>\n",
       "      <td>-</td>\n",
       "      <td>-  -</td>\n",
       "      <td>7/12/2018 15:36</td>\n",
       "      <td>7/14/2018 11:13</td>\n",
       "      <td>NATURE</td>\n",
       "      <td>Encyclopedia of birds /</td>\n",
       "      <td>NaN</td>\n",
       "      <td>1998</td>\n",
       "    </tr>\n",
       "    <tr>\n",
       "      <td>4</td>\n",
       "      <td>East Palo Alto</td>\n",
       "      <td>7/18/2005 8:47</td>\n",
       "      <td>b10002364</td>\n",
       "      <td>7/18/2005 8:47</td>\n",
       "      <td>0</td>\n",
       "      <td>0</td>\n",
       "      <td>8</td>\n",
       "      <td>8</td>\n",
       "      <td>0</td>\n",
       "      <td>m</td>\n",
       "      <td>-  -</td>\n",
       "      <td>6/8/2016 16:57</td>\n",
       "      <td>8/17/2016 17:01</td>\n",
       "      <td>COOKING</td>\n",
       "      <td>Caribbean and African cooking /</td>\n",
       "      <td>Grant, Rosamund.</td>\n",
       "      <td>1998</td>\n",
       "    </tr>\n",
       "  </tbody>\n",
       "</table>\n",
       "</div>"
      ],
      "text/plain": [
       "             BRANCH   CREATED(ITEM) RECORD #(BIBLIO) CREATED(BIBLIO)  YTDCIRC  \\\n",
       "0    Portola Valley  7/18/2005 8:45        b10000203  7/18/2005 8:45        0   \n",
       "1  Pacifica Sanchez  7/18/2005 8:45        b10000276  7/18/2005 8:45        0   \n",
       "2       Foster City  7/18/2005 8:45        b1000032x  7/18/2005 8:45        2   \n",
       "3          Millbrae  7/18/2005 8:45        b1000032x  7/18/2005 8:45        0   \n",
       "4    East Palo Alto  7/18/2005 8:47        b10002364  7/18/2005 8:47        0   \n",
       "\n",
       "   LYRCIRC  TOT CHKOUT  TOT RENEW  # RENEWALS STATUS  DUE DATE  \\\n",
       "0        0          15          6           0    m      -  -     \n",
       "1        0          30         11           0    -      -  -     \n",
       "2        3          40         23           0    -      -  -     \n",
       "3        0          17          9           0    -      -  -     \n",
       "4        0           8          8           0    m      -  -     \n",
       "\n",
       "           LOUTDATE           LCHKIN   CALL #  \\\n",
       "0   4/28/2016 15:35  5/24/2016 11:00   NATURE   \n",
       "1   4/18/2018 17:17  5/14/2018 10:40   NATURE   \n",
       "2  11/24/2019 16:41  1/10/2020 10:47   NATURE   \n",
       "3   7/12/2018 15:36  7/14/2018 11:13   NATURE   \n",
       "4    6/8/2016 16:57  8/17/2016 17:01  COOKING   \n",
       "\n",
       "                        Book Title            Author Published Date  \n",
       "0        Encyclopedia of mammals /               NaN           1998  \n",
       "1         Encyclopedia of fishes /               NaN           1998  \n",
       "2          Encyclopedia of birds /               NaN           1998  \n",
       "3          Encyclopedia of birds /               NaN           1998  \n",
       "4  Caribbean and African cooking /  Grant, Rosamund.           1998  "
      ]
     },
     "execution_count": 85,
     "metadata": {},
     "output_type": "execute_result"
    }
   ],
   "source": [
    "#looking for values to combine in Call # field\n",
    "smcl_data_clean[\"CALL #\"].value_counts()\n",
    "\n",
    "#cleaning up and only using initial categorey \n",
    "smcl_data_clean[\"CALL #\"] = smcl_data_clean[\"CALL #\"].str.split(\" \", 1, expand=True)\n",
    "smcl_data_clean.head()"
   ]
  },
  {
   "cell_type": "code",
   "execution_count": 86,
   "metadata": {},
   "outputs": [
    {
     "data": {
      "text/plain": [
       "BIO        6789\n",
       "COOKING    5231\n",
       "HISTORY    4966\n",
       "HEALTH     4575\n",
       "TRAVEL     4540\n",
       "           ... \n",
       "F-AND         1\n",
       "F-CLO         1\n",
       "F-JOH         1\n",
       "RO-KLE        1\n",
       "F-GRI         1\n",
       "Name: CALL #, Length: 254, dtype: int64"
      ]
     },
     "execution_count": 86,
     "metadata": {},
     "output_type": "execute_result"
    }
   ],
   "source": [
    "#Looking to see which roll to remove\n",
    "smcl_data_clean[\"CALL #\"].value_counts()"
   ]
  },
  {
   "cell_type": "code",
   "execution_count": 87,
   "metadata": {},
   "outputs": [],
   "source": [
    "#Removing items starting with \"F-\"\n",
    "smcl_data_removed1 = smcl_data_clean[~smcl_data_clean[\"CALL #\"].astype(str).str.startswith('F-')]\n",
    "#Removing items starting with \"M-\"\n",
    "smcl_data_removed2 = smcl_data_removed1[~smcl_data_removed1[\"CALL #\"].astype(str).str.startswith('M-')]\n",
    "#Removing items starting with \"SF-\"\n",
    "smcl_data_removed3 = smcl_data_removed2[~smcl_data_removed2[\"CALL #\"].astype(str).str.startswith('SF-')]\n",
    "#Removing items starting with \"YA-\"\n",
    "smcl_data_removed4 = smcl_data_removed3[~smcl_data_removed3[\"CALL #\"].astype(str).str.startswith('YA-')]\n",
    "\n",
    "#Removing items that appear less than 10 times\n",
    "smcl_data_removed5 = smcl_data_removed4.groupby('CALL #').filter(lambda d: len(d) > 10)\n",
    "\n",
    "#Removing items that are incorrectly placed into ANF\n",
    "smcl_data_removed6 = smcl_data_removed5[smcl_data_removed5[\"CALL #\"] != \"USB\"]\n",
    "smcl_data_removed7 = smcl_data_removed6[smcl_data_removed6[\"CALL #\"] != \"SP\"]\n",
    "smcl_data_removed8 = smcl_data_removed7[smcl_data_removed7[\"CALL #\"] != \"CHI\"]\n",
    "smcl_data_removed9 = smcl_data_removed8[smcl_data_removed8[\"CALL #\"] != \"J\"]\n",
    "smcl_data_removed10 = smcl_data_removed9[smcl_data_removed9[\"CALL #\"] != \"DVD\"]\n",
    "smcl_data_removed11 = smcl_data_removed10[smcl_data_removed10[\"CALL #\"] != \"CD\"]\n"
   ]
  },
  {
   "cell_type": "code",
   "execution_count": 88,
   "metadata": {},
   "outputs": [],
   "source": [
    "#Combining Call # that are the same\n",
    "smcl_data_removed_final = smcl_data_removed11.replace({\n",
    "                                                        \"SOC\": \"SOC SCI\",\n",
    "                                                        \"PERS\": \"PERS FIN\", \"PER\": \"PERS FIN\",\n",
    "                                                        \"SPORTS\": \"SPORT\",\n",
    "                                                        \"LANG\": \"LANG INST\",\n",
    "                                                        \"CRAFTS\": \"CRAFT\",\n",
    "                                                        \"PETS\": \"PET\",\n",
    "                                                        \"SELF\": \"SELFHELP\",\n",
    "                                                        \"LITERATUR\": \"LIT\",\n",
    "                                                        \"PHILOSOPH\": \"PHILSOPH\",\n",
    "                                                        })"
   ]
  },
  {
   "cell_type": "code",
   "execution_count": 89,
   "metadata": {},
   "outputs": [
    {
     "data": {
      "text/html": [
       "<div>\n",
       "<style scoped>\n",
       "    .dataframe tbody tr th:only-of-type {\n",
       "        vertical-align: middle;\n",
       "    }\n",
       "\n",
       "    .dataframe tbody tr th {\n",
       "        vertical-align: top;\n",
       "    }\n",
       "\n",
       "    .dataframe thead th {\n",
       "        text-align: right;\n",
       "    }\n",
       "</style>\n",
       "<table border=\"1\" class=\"dataframe\">\n",
       "  <thead>\n",
       "    <tr style=\"text-align: right;\">\n",
       "      <th></th>\n",
       "      <th>BRANCH</th>\n",
       "      <th>Book Title</th>\n",
       "      <th>Author</th>\n",
       "      <th>Published Date</th>\n",
       "      <th>CALL #</th>\n",
       "      <th>TOT CHKOUT</th>\n",
       "      <th>TOT RENEW</th>\n",
       "      <th>TOT CIRC</th>\n",
       "      <th>STATUS</th>\n",
       "      <th>DUE DATE</th>\n",
       "      <th>LOUTDATE</th>\n",
       "      <th>LCHKIN</th>\n",
       "      <th>CREATED(ITEM)</th>\n",
       "    </tr>\n",
       "  </thead>\n",
       "  <tbody>\n",
       "    <tr>\n",
       "      <td>0</td>\n",
       "      <td>Portola Valley</td>\n",
       "      <td>Encyclopedia of mammals /</td>\n",
       "      <td>NaN</td>\n",
       "      <td>1998</td>\n",
       "      <td>NATURE</td>\n",
       "      <td>15</td>\n",
       "      <td>6</td>\n",
       "      <td>21</td>\n",
       "      <td>m</td>\n",
       "      <td>-  -</td>\n",
       "      <td>4/28/2016 15:35</td>\n",
       "      <td>5/24/2016 11:00</td>\n",
       "      <td>7/18/2005 8:45</td>\n",
       "    </tr>\n",
       "    <tr>\n",
       "      <td>1</td>\n",
       "      <td>Pacifica Sanchez</td>\n",
       "      <td>Encyclopedia of fishes /</td>\n",
       "      <td>NaN</td>\n",
       "      <td>1998</td>\n",
       "      <td>NATURE</td>\n",
       "      <td>30</td>\n",
       "      <td>11</td>\n",
       "      <td>41</td>\n",
       "      <td>-</td>\n",
       "      <td>-  -</td>\n",
       "      <td>4/18/2018 17:17</td>\n",
       "      <td>5/14/2018 10:40</td>\n",
       "      <td>7/18/2005 8:45</td>\n",
       "    </tr>\n",
       "    <tr>\n",
       "      <td>2</td>\n",
       "      <td>Foster City</td>\n",
       "      <td>Encyclopedia of birds /</td>\n",
       "      <td>NaN</td>\n",
       "      <td>1998</td>\n",
       "      <td>NATURE</td>\n",
       "      <td>40</td>\n",
       "      <td>23</td>\n",
       "      <td>63</td>\n",
       "      <td>-</td>\n",
       "      <td>-  -</td>\n",
       "      <td>11/24/2019 16:41</td>\n",
       "      <td>1/10/2020 10:47</td>\n",
       "      <td>7/18/2005 8:45</td>\n",
       "    </tr>\n",
       "    <tr>\n",
       "      <td>3</td>\n",
       "      <td>Millbrae</td>\n",
       "      <td>Encyclopedia of birds /</td>\n",
       "      <td>NaN</td>\n",
       "      <td>1998</td>\n",
       "      <td>NATURE</td>\n",
       "      <td>17</td>\n",
       "      <td>9</td>\n",
       "      <td>26</td>\n",
       "      <td>-</td>\n",
       "      <td>-  -</td>\n",
       "      <td>7/12/2018 15:36</td>\n",
       "      <td>7/14/2018 11:13</td>\n",
       "      <td>7/18/2005 8:45</td>\n",
       "    </tr>\n",
       "    <tr>\n",
       "      <td>4</td>\n",
       "      <td>East Palo Alto</td>\n",
       "      <td>Caribbean and African cooking /</td>\n",
       "      <td>Grant, Rosamund.</td>\n",
       "      <td>1998</td>\n",
       "      <td>COOKING</td>\n",
       "      <td>8</td>\n",
       "      <td>8</td>\n",
       "      <td>16</td>\n",
       "      <td>m</td>\n",
       "      <td>-  -</td>\n",
       "      <td>6/8/2016 16:57</td>\n",
       "      <td>8/17/2016 17:01</td>\n",
       "      <td>7/18/2005 8:47</td>\n",
       "    </tr>\n",
       "  </tbody>\n",
       "</table>\n",
       "</div>"
      ],
      "text/plain": [
       "             BRANCH                       Book Title            Author  \\\n",
       "0    Portola Valley        Encyclopedia of mammals /               NaN   \n",
       "1  Pacifica Sanchez         Encyclopedia of fishes /               NaN   \n",
       "2       Foster City          Encyclopedia of birds /               NaN   \n",
       "3          Millbrae          Encyclopedia of birds /               NaN   \n",
       "4    East Palo Alto  Caribbean and African cooking /  Grant, Rosamund.   \n",
       "\n",
       "  Published Date   CALL #  TOT CHKOUT  TOT RENEW  TOT CIRC STATUS  DUE DATE  \\\n",
       "0           1998   NATURE          15          6        21    m      -  -     \n",
       "1           1998   NATURE          30         11        41    -      -  -     \n",
       "2           1998   NATURE          40         23        63    -      -  -     \n",
       "3           1998   NATURE          17          9        26    -      -  -     \n",
       "4           1998  COOKING           8          8        16    m      -  -     \n",
       "\n",
       "           LOUTDATE           LCHKIN   CREATED(ITEM)  \n",
       "0   4/28/2016 15:35  5/24/2016 11:00  7/18/2005 8:45  \n",
       "1   4/18/2018 17:17  5/14/2018 10:40  7/18/2005 8:45  \n",
       "2  11/24/2019 16:41  1/10/2020 10:47  7/18/2005 8:45  \n",
       "3   7/12/2018 15:36  7/14/2018 11:13  7/18/2005 8:45  \n",
       "4    6/8/2016 16:57  8/17/2016 17:01  7/18/2005 8:47  "
      ]
     },
     "execution_count": 89,
     "metadata": {},
     "output_type": "execute_result"
    }
   ],
   "source": [
    "TOT_CIRC = smcl_data_removed_final[\"TOT CHKOUT\"] + smcl_data_removed_final[\"TOT RENEW\"]\n",
    "smcl_data_removed_final[\"TOT CIRC\"] =  TOT_CIRC\n",
    "\n",
    "smcl_data_df = smcl_data_removed_final[[\"BRANCH\", \"Book Title\", \"Author\", \"Published Date\", \"CALL #\", \"TOT CHKOUT\", \"TOT RENEW\", \"TOT CIRC\", \"STATUS\", \"DUE DATE\", \"LOUTDATE\", \"LCHKIN\", \"CREATED(ITEM)\"]]\n",
    "smcl_data_df.head()"
   ]
  },
  {
   "cell_type": "code",
   "execution_count": 90,
   "metadata": {},
   "outputs": [],
   "source": [
    "#smcl_count = smcl_data_df.pivot_table(values=\"TOT CIRC\", index=[\"CALL #\"], columns=\"BRANCH\", aggfunc='count')\n",
    "#smcl_mean = smcl_data_df.pivot_table(values=\"TOT CIRC\", index=[\"CALL #\"], columns=\"BRANCH\", aggfunc='mean')\n",
    "#smcl_max = smcl_data_df.pivot_table(values=\"TOT CIRC\", index=[\"CALL #\"], columns=\"BRANCH\", aggfunc='max')\n",
    "#smcl_count.round(2)"
   ]
  },
  {
   "cell_type": "code",
   "execution_count": 91,
   "metadata": {},
   "outputs": [],
   "source": [
    "#What is consider most popular Category\n",
    "#Item with the highest Circ\n",
    "#Item with the highest Avg Circ\n",
    "#An individual Title with the Max Circ in the Category\n",
    "\n",
    "#Theory the most popular Category is determine by the total number of items the library contains.\n",
    "#The more items the library contain the more popular the category\n",
    "\n",
    "smcl_groupby_cat = smcl_data_df.groupby([\"CALL #\"])\n",
    "smcl_tot_circ = smcl_groupby_cat[\"TOT CIRC\"].sum()\n",
    "smcl_tot_items = smcl_groupby_cat[\"TOT CIRC\"].count()\n",
    "smcl_max_circ = smcl_groupby_cat[\"TOT CIRC\"].max()\n",
    "smcl_avg_circ = smcl_groupby_cat[\"TOT CIRC\"].mean()\n",
    "\n",
    "smcl_count_summary_table = pd.DataFrame({\"Total Items\": smcl_tot_items,\n",
    "                                         \"Total Circ\": smcl_tot_circ,\n",
    "                                         \"Indvidual Item Max Circ\": smcl_max_circ,\n",
    "                                         \"Avg Circ\": smcl_avg_circ.round(2)\n",
    "                                         })\n",
    "\n",
    "#smcl_count_summary_table\n",
    "#highest_items = smcl_count_summary_table[['Total Items']].idxmax()\n",
    "#print(f\"The item with the highest {highest_items}\")\n",
    "#Only look at Call# with Circ higher than 50,000\n"
   ]
  },
  {
   "cell_type": "code",
   "execution_count": 104,
   "metadata": {
    "scrolled": true
   },
   "outputs": [
    {
     "data": {
      "image/png": "[encoded data removed]",
      "text/plain": [
       "<Figure size 432x288 with 1 Axes>"
      ]
     },
     "metadata": {
      "needs_background": "light"
     },
     "output_type": "display_data"
    },
    {
     "name": "stdout",
     "output_type": "stream",
     "text": [
      "The r-squared is: 0.912121407888663\n"
     ]
    }
   ],
   "source": [
    "x_values = smcl_count_summary_table[\"Total Items\"]\n",
    "y_values = smcl_count_summary_table[\"Total Circ\"]\n",
    "\n",
    "plt.scatter(x_values,y_values)\n",
    "plt.xlabel('Total Items Library Owned')\n",
    "plt.ylabel('Total Circulation the Category has')\n",
    "\n",
    "(slope, intercept, rvalue, pvalue, stderr) = linregress(x_values, y_values)\n",
    "regress_values = x_values * slope + intercept\n",
    "line_eq = \"y = \" + str(round(slope,2)) + \"x + \" + str(round(intercept,2))\n",
    "plt.plot(x_values,regress_values,\"r-\")\n",
    "plt.annotate(line_eq,(6,10),fontsize=15,color=\"red\")\n",
    "plt.show()\n",
    "print(f\"The r-squared is: {rvalue}\")"
   ]
  },
  {
   "cell_type": "code",
   "execution_count": 123,
   "metadata": {
    "scrolled": true
   },
   "outputs": [
    {
     "data": {
      "image/png": "[encoded data removed]",
      "text/plain": [
       "<Figure size 432x288 with 1 Axes>"
      ]
     },
     "metadata": {
      "needs_background": "light"
     },
     "output_type": "display_data"
    },
    {
     "name": "stdout",
     "output_type": "stream",
     "text": [
      "The r-squared is: 0.9523074955975098\n"
     ]
    }
   ],
   "source": [
    "under_3000 = smcl_count_summary_table[smcl_count_summary_table[\"Total Items\"] < 3000].dropna()\n",
    "\n",
    "x_values = under_3000[\"Total Items\"]\n",
    "y_values = under_3000[\"Total Circ\"]\n",
    "\n",
    "plt.scatter(x_values,y_values)\n",
    "plt.xlabel('Total Items Library Owned')\n",
    "plt.ylabel('Total Circulation the Category has')\n",
    "\n",
    "(slope, intercept, rvalue, pvalue, stderr) = linregress(x_values, y_values)\n",
    "regress_values = x_values * slope + intercept\n",
    "line_eq = \"y = \" + str(round(slope,2)) + \"x + \" + str(round(intercept,2))\n",
    "plt.plot(x_values,regress_values,\"r-\")\n",
    "plt.annotate(line_eq,(6,10),fontsize=15,color=\"red\")\n",
    "plt.show()\n",
    "print(f\"The r-squared is: {rvalue}\")"
   ]
  },
  {
   "cell_type": "code",
   "execution_count": 124,
   "metadata": {},
   "outputs": [
    {
     "data": {
      "image/png": "[encoded data removed]",
      "text/plain": [
       "<Figure size 432x288 with 1 Axes>"
      ]
     },
     "metadata": {
      "needs_background": "light"
     },
     "output_type": "display_data"
    },
    {
     "name": "stdout",
     "output_type": "stream",
     "text": [
      "The r-squared is: 0.49545317508731557\n"
     ]
    }
   ],
   "source": [
    "over_3000 = smcl_count_summary_table[smcl_count_summary_table[\"Total Items\"] > 3000].dropna()\n",
    "\n",
    "x_values = over_3000[\"Total Items\"]\n",
    "y_values = over_3000[\"Total Circ\"]\n",
    "\n",
    "plt.scatter(x_values,y_values)\n",
    "plt.xlabel('Total Items Library Owned')\n",
    "plt.ylabel('Total Circulation the Category has')\n",
    "\n",
    "(slope, intercept, rvalue, pvalue, stderr) = linregress(x_values, y_values)\n",
    "regress_values = x_values * slope + intercept\n",
    "line_eq = \"y = \" + str(round(slope,2)) + \"x + \" + str(round(intercept,2))\n",
    "plt.plot(x_values,regress_values,\"r-\")\n",
    "plt.annotate(line_eq,(6,10),fontsize=15,color=\"red\")\n",
    "plt.show()\n",
    "print(f\"The r-squared is: {rvalue}\")"
   ]
  },
  {
   "cell_type": "code",
   "execution_count": null,
   "metadata": {},
   "outputs": [],
   "source": []
  }
 ],
 "metadata": {
  "kernelspec": {
   "display_name": "Python 3",
   "language": "python",
   "name": "python3"
  },
  "language_info": {
   "codemirror_mode": {
    "name": "ipython",
    "version": 3
   },
   "file_extension": ".py",
   "mimetype": "text/x-python",
   "name": "python",
   "nbconvert_exporter": "python",
   "pygments_lexer": "ipython3",
   "version": "3.7.4"
  }
 },
 "nbformat": 4,
 "nbformat_minor": 2
}
